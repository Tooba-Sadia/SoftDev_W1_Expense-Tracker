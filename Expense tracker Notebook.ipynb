{
 "cells": [
  {
   "cell_type": "markdown",
   "id": "48e5a08e",
   "metadata": {},
   "source": [
    "Allow users to record, view, search, and analyze expenses"
   ]
  },
  {
   "cell_type": "code",
   "execution_count": 33,
   "id": "b8c060ac",
   "metadata": {},
   "outputs": [],
   "source": [
    "def record(expenses, category_list):\n",
    "\n",
    "    print(\"Kindly enter your Expense details\")\n",
    "    print(\"Enter number to Choose Expense Category:\", category_list)\n",
    "    category_index = int(input())-1\n",
    "    name = input(\"Enter Expense Name\")\n",
    "    cost = int(input(\"Enter Cost of the Expense\")) #cost is int cuz we are counting in pakistani rupees\n",
    "\n",
    "    expenses.append([category_list[category_index].split('. ')[-1],name,cost])\n",
    "   "
   ]
  },
  {
   "cell_type": "code",
   "execution_count": 34,
   "id": "d86cc2e0",
   "metadata": {},
   "outputs": [],
   "source": [
    "def view(expenses):\n",
    "    for expense in expenses:\n",
    "        expense_category,expense_name, expense_cost= expense # unpacking\n",
    "        print(\"Expense_Name Expense_Category  Expense_Cost\")\n",
    "        print(expense_name, expense_category, expense_cost)"
   ]
  },
  {
   "cell_type": "code",
   "execution_count": 35,
   "id": "ae909486",
   "metadata": {},
   "outputs": [],
   "source": [
    "def search():\n",
    "    pass"
   ]
  },
  {
   "cell_type": "code",
   "execution_count": 36,
   "id": "65a3888b",
   "metadata": {},
   "outputs": [],
   "source": [
    "def analyze():\n",
    "    pass"
   ]
  },
  {
   "cell_type": "code",
   "execution_count": 37,
   "id": "268d7b2f",
   "metadata": {},
   "outputs": [
    {
     "data": {
      "text/plain": [
       "\"def all_categories(new_category=''):\\n    category_list = ['Rent','Entertainment','Shopping','','Groceries','Travel','healthcare']\\n    if new_category:\\n        category_list.append()\\n    return category_list\""
      ]
     },
     "execution_count": 37,
     "metadata": {},
     "output_type": "execute_result"
    }
   ],
   "source": [
    "'''def all_categories(new_category=''):\n",
    "    category_list = ['Rent','Entertainment','Shopping','','Groceries','Travel','healthcare']\n",
    "    if new_category:\n",
    "        category_list.append()\n",
    "    return category_list'''\n"
   ]
  },
  {
   "cell_type": "code",
   "execution_count": 38,
   "id": "7ab50f01",
   "metadata": {},
   "outputs": [
    {
     "name": "stdout",
     "output_type": "stream",
     "text": [
      "WELCOME TO MONTHLY EXPENSE TRACKER\n",
      "Choose one of the following options:\n",
      "1. Record an expense \n",
      "2. View Monthly Records \n",
      "3. Search for an expense{based on category,date}\n",
      "4. Analyze your expenses based on categories\n",
      "Choose one of the following options:\n",
      "1. Record an expense \n",
      "2. View Monthly Records \n",
      "3. Search for an expense{based on category,date}\n",
      "4. Analyze your expenses based on categories\n"
     ]
    },
    {
     "ename": "ValueError",
     "evalue": "invalid literal for int() with base 10: ''",
     "output_type": "error",
     "traceback": [
      "\u001b[1;31m---------------------------------------------------------------------------\u001b[0m",
      "\u001b[1;31mValueError\u001b[0m                                Traceback (most recent call last)",
      "Cell \u001b[1;32mIn[38], line 38\u001b[0m\n\u001b[0;32m     36\u001b[0m \u001b[38;5;28;01mwhile\u001b[39;00m cont \u001b[38;5;241m!=\u001b[39m \u001b[38;5;124m'\u001b[39m\u001b[38;5;124m0\u001b[39m\u001b[38;5;124m'\u001b[39m:\n\u001b[0;32m     37\u001b[0m     menu()\n\u001b[1;32m---> 38\u001b[0m     \u001b[43mchoose\u001b[49m\u001b[43m(\u001b[49m\u001b[43mexpenses\u001b[49m\u001b[43m,\u001b[49m\u001b[43mcategory_list\u001b[49m\u001b[43m)\u001b[49m\n\u001b[0;32m     39\u001b[0m     cont \u001b[38;5;241m=\u001b[39m \u001b[38;5;28minput\u001b[39m(\u001b[38;5;124m\"\u001b[39m\u001b[38;5;124mEnter any key to continue, Enter 0 to exit\u001b[39m\u001b[38;5;124m\"\u001b[39m)\u001b[38;5;241m.\u001b[39mstrip()\u001b[38;5;241m.\u001b[39mlower()\n",
      "Cell \u001b[1;32mIn[38], line 13\u001b[0m, in \u001b[0;36mchoose\u001b[1;34m(expenses, category_list)\u001b[0m\n\u001b[0;32m     12\u001b[0m \u001b[38;5;28;01mdef\u001b[39;00m \u001b[38;5;21mchoose\u001b[39m(expenses,category_list):\n\u001b[1;32m---> 13\u001b[0m     choice \u001b[38;5;241m=\u001b[39m \u001b[38;5;28;43mint\u001b[39;49m\u001b[43m(\u001b[49m\u001b[38;5;28;43minput\u001b[39;49m\u001b[43m(\u001b[49m\u001b[43m)\u001b[49m\u001b[43m)\u001b[49m\n\u001b[0;32m     15\u001b[0m     \u001b[38;5;28;01mmatch\u001b[39;00m choice:\n\u001b[0;32m     16\u001b[0m         \u001b[38;5;28;01mcase\u001b[39;00m \u001b[38;5;241m1\u001b[39m:\n",
      "\u001b[1;31mValueError\u001b[0m: invalid literal for int() with base 10: ''"
     ]
    }
   ],
   "source": [
    "import os\n",
    "def menu():\n",
    "    # For Windows\n",
    "    if os.name == 'nt':\n",
    "        os.system('cls')\n",
    "    # For macOS and Linux (POSIX systems)\n",
    "    else:\n",
    "        os.system('clear')\n",
    "    print(\"Choose one of the following options:\")\n",
    "    print(\"1. Record an expense \\n2. View Monthly Records \\n3. Search for an expense{based on category,date}\")\n",
    "    print(\"4. Analyze your expenses based on categories\")\n",
    "def choose(expenses,category_list):\n",
    "    choice = int(input())\n",
    "\n",
    "    match choice:\n",
    "        case 1:\n",
    "            record(expenses,category_list)\n",
    "        case 2:\n",
    "            view(expenses)\n",
    "        case 3:\n",
    "            search()\n",
    "        case 4:\n",
    "            analyze()\n",
    "\n",
    "\n",
    "\n",
    "\n",
    "expenses = [] #i'll use 2d lists for storage of items in the order [id, category, name, cost]\n",
    "category_list = ['1. Rent','2. Entertainment','3. Shopping','4. Groceries','5. Travel','6. healthcare']\n",
    "\n",
    "\n",
    "\n",
    "\n",
    "print(\"WELCOME TO MONTHLY EXPENSE TRACKER\")\n",
    "cont= ''\n",
    "while cont != '0':\n",
    "    menu()\n",
    "    choose(expenses,category_list)\n",
    "    cont = input(\"Enter any key to continue, Enter 0 to exit\").strip().lower()\n",
    "    \n",
    "\n"
   ]
  }
 ],
 "metadata": {
  "kernelspec": {
   "display_name": "Python 3",
   "language": "python",
   "name": "python3"
  },
  "language_info": {
   "codemirror_mode": {
    "name": "ipython",
    "version": 3
   },
   "file_extension": ".py",
   "mimetype": "text/x-python",
   "name": "python",
   "nbconvert_exporter": "python",
   "pygments_lexer": "ipython3",
   "version": "3.11.6"
  }
 },
 "nbformat": 4,
 "nbformat_minor": 5
}
